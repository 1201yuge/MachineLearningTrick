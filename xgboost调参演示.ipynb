{
 "cells": [
  {
   "cell_type": "code",
   "execution_count": 47,
   "metadata": {
    "collapsed": false
   },
   "outputs": [],
   "source": [
    "from sklearn.model_selection import train_test_split\n",
    "from sklearn import metrics\n",
    "from  sklearn.datasets  import  make_hastie_10_2\n",
    "from  sklearn.ensemble  import  GradientBoostingClassifier\n",
    "from xgboost.sklearn import XGBClassifier\n",
    "##载入示例数据 10维度\n",
    "X, y = make_hastie_10_2(random_state=0)\n",
    "X_train, X_test, y_train, y_test = train_test_split(X, y, test_size=0.5, random_state=0)##test_size测试集合所占比例\n"
   ]
  },
  {
   "cell_type": "markdown",
   "metadata": {},
   "source": [
    "默认GBDT参数\n",
    "---"
   ]
  },
  {
   "cell_type": "code",
   "execution_count": 48,
   "metadata": {
    "collapsed": false
   },
   "outputs": [
    {
     "name": "stdout",
     "output_type": "stream",
     "text": [
      "AUC Score : 0.974248\n",
      "Accuracy : 0.8995\n"
     ]
    }
   ],
   "source": [
    "clf = GradientBoostingClassifier()\n",
    "clf.fit(X_train, y_train)\n",
    "y_pre= clf.predict(X_test)\n",
    "y_pro= clf.predict_proba(X_test)[:,1] \n",
    "print \"AUC Score : %f\" % metrics.roc_auc_score(y_test, y_pro) \n",
    "print\"Accuracy : %.4g\" % metrics.accuracy_score(y_test, y_pre) "
   ]
  },
  {
   "cell_type": "markdown",
   "metadata": {},
   "source": [
    "默认Xgboost参数\n",
    "---"
   ]
  },
  {
   "cell_type": "code",
   "execution_count": 49,
   "metadata": {
    "collapsed": false
   },
   "outputs": [
    {
     "name": "stdout",
     "output_type": "stream",
     "text": [
      "AUC Score : 0.972424\n",
      "Accuracy : 0.8993\n"
     ]
    }
   ],
   "source": [
    "auc_Score=[]\n",
    "accuracy=[]\n",
    "clf = XGBClassifier()\n",
    "clf.fit(X_train, y_train)\n",
    "y_pre= clf.predict(X_test)\n",
    "y_pro= clf.predict_proba(X_test)[:,1] \n",
    "print \"AUC Score : %f\" % metrics.roc_auc_score(y_test, y_pro) \n",
    "print\"Accuracy : %.4g\" % metrics.accuracy_score(y_test, y_pre)\n",
    "auc_Score.append(metrics.roc_auc_score(y_test, y_pro))\n",
    "accuracy.append(metrics.accuracy_score(y_test, y_pre))"
   ]
  },
  {
   "cell_type": "markdown",
   "metadata": {},
   "source": [
    "调整Xgboost参数\n",
    "---"
   ]
  },
  {
   "cell_type": "markdown",
   "metadata": {},
   "source": [
    "第一步：初始学习速率0.1和tree_based参数调优的估计器数目100\n",
    "给其他参数一个初始值。\n",
    "1. max_depth = 5 :默认6树的最大深度，这个参数的取值最好在3-10之间。\n",
    "2. min_child_weight = 1:默认是1决定最小叶子节点样本权重和。如果是一个极不平衡的分类问题，某些叶子节点下的值会比较小，这个值取小点。\n",
    "3. gamma = 0: 默认0，在0.1到0.2之间就可以。树的叶子节点上作进一步分裂所需的最小损失减少。这个参数后继也是要调整的。\n",
    "4. subsample, colsample_bytree = 0.8: 样本采样、列采样。典型值的范围在0.5-0.9之间。\n",
    "5. scale_pos_weight = 1:默认1,如果类别十分不平衡取较大正值。 "
   ]
  },
  {
   "cell_type": "code",
   "execution_count": 52,
   "metadata": {
    "collapsed": false
   },
   "outputs": [
    {
     "name": "stdout",
     "output_type": "stream",
     "text": [
      "AUC Score : 0.978546\n",
      "Accuracy : 0.9133\n"
     ]
    }
   ],
   "source": [
    "clf = XGBClassifier(\n",
    " learning_rate =0.1, #默认0.3\n",
    " n_estimators=100, #树的个数\n",
    " max_depth=5,\n",
    " min_child_weight=1,\n",
    " gamma=0,\n",
    " subsample=0.8,\n",
    " colsample_bytree=0.8,\n",
    " objective= 'binary:logistic', #逻辑回归损失函数\n",
    " nthread=4,  #cpu线程数\n",
    " scale_pos_weight=1,\n",
    " seed=27)  #随机种子\n",
    "clf.fit(X_train, y_train)\n",
    "y_pre= clf.predict(X_test)\n",
    "y_pro= clf.predict_proba(X_test)[:,1] \n",
    "print \"AUC Score : %f\" % metrics.roc_auc_score(y_test, y_pro) \n",
    "print\"Accuracy : %.4g\" % metrics.accuracy_score(y_test, y_pre) \n",
    "auc_Score.append(metrics.roc_auc_score(y_test, y_pro))\n",
    "accuracy.append(metrics.accuracy_score(y_test, y_pre))"
   ]
  },
  {
   "cell_type": "markdown",
   "metadata": {},
   "source": [
    "'n_estimators':[100,200,500,1000,1500] \n",
    "\n",
    "取1000最好"
   ]
  },
  {
   "cell_type": "code",
   "execution_count": 53,
   "metadata": {
    "collapsed": false
   },
   "outputs": [
    {
     "name": "stdout",
     "output_type": "stream",
     "text": [
      "AUC Score : 0.989145\n",
      "Accuracy : 0.9405\n"
     ]
    }
   ],
   "source": [
    "clf = XGBClassifier(\n",
    " learning_rate =0.1, #默认0.3\n",
    " n_estimators=1000, #树的个数\n",
    " max_depth=5,\n",
    " min_child_weight=1,\n",
    " gamma=0,\n",
    " subsample=0.8,\n",
    " colsample_bytree=0.8,\n",
    " objective= 'binary:logistic', #逻辑回归损失函数\n",
    " nthread=4,  #cpu线程数\n",
    " scale_pos_weight=1,\n",
    " seed=27)  #随机种子\n",
    "clf.fit(X_train, y_train)\n",
    "y_pre= clf.predict(X_test)\n",
    "y_pro= clf.predict_proba(X_test)[:,1] \n",
    "print \"AUC Score : %f\" % metrics.roc_auc_score(y_test, y_pro) \n",
    "print\"Accuracy : %.4g\" % metrics.accuracy_score(y_test, y_pre) \n",
    "auc_Score.append(metrics.roc_auc_score(y_test, y_pro))\n",
    "accuracy.append(metrics.accuracy_score(y_test, y_pre))"
   ]
  },
  {
   "cell_type": "markdown",
   "metadata": {},
   "source": [
    "第二步： max_depth 和 min_weight 它们对最终结果有很大的影响\n",
    "\n",
    "max_depth range(3,10,2)=[3, 5, 7, 9]\n",
    "\n",
    "min_weight range(1,6,2)=[1, 3, 5]\n",
    "\n",
    "max_depth=3  min_weight=1 最好"
   ]
  },
  {
   "cell_type": "code",
   "execution_count": 54,
   "metadata": {
    "collapsed": false
   },
   "outputs": [
    {
     "name": "stdout",
     "output_type": "stream",
     "text": [
      "AUC Score : 0.991693\n",
      "Accuracy : 0.9485\n"
     ]
    }
   ],
   "source": [
    "clf = XGBClassifier(\n",
    " learning_rate =0.1, #默认0.3\n",
    " n_estimators=1000, #树的个数\n",
    " max_depth=3,\n",
    " min_child_weight=1,\n",
    " gamma=0,\n",
    " subsample=0.8,\n",
    " colsample_bytree=0.8,\n",
    " objective= 'binary:logistic', #逻辑回归损失函数\n",
    " nthread=4,  #cpu线程数\n",
    " scale_pos_weight=1,\n",
    " seed=27)  #随机种子\n",
    "clf.fit(X_train, y_train)\n",
    "y_pre= clf.predict(X_test)\n",
    "y_pro= clf.predict_proba(X_test)[:,1] \n",
    "print \"AUC Score : %f\" % metrics.roc_auc_score(y_test, y_pro) \n",
    "print\"Accuracy : %.4g\" % metrics.accuracy_score(y_test, y_pre) \n",
    "auc_Score.append(metrics.roc_auc_score(y_test, y_pro))\n",
    "accuracy.append(metrics.accuracy_score(y_test, y_pre))"
   ]
  },
  {
   "cell_type": "markdown",
   "metadata": {},
   "source": [
    "第三步：gamma参数调优\n",
    "\n",
    "'gamma':[i/10.0 for i in range(0,7)]=[0.0, 0.1, 0.2, 0.3, 0.4, 0.5, 0.6]\n",
    "\n",
    "gamma=0.5 最好"
   ]
  },
  {
   "cell_type": "code",
   "execution_count": 55,
   "metadata": {
    "collapsed": false
   },
   "outputs": [
    {
     "name": "stdout",
     "output_type": "stream",
     "text": [
      "AUC Score : 0.991749\n",
      "Accuracy : 0.9497\n"
     ]
    }
   ],
   "source": [
    "clf = XGBClassifier(\n",
    " learning_rate =0.1, #默认0.3\n",
    " n_estimators=1000, #树的个数\n",
    " max_depth=3,\n",
    " min_child_weight=1,\n",
    " gamma=0.5,\n",
    " subsample=0.8,\n",
    " colsample_bytree=0.8,\n",
    " objective= 'binary:logistic', #逻辑回归损失函数\n",
    " nthread=4,  #cpu线程数\n",
    " scale_pos_weight=1,\n",
    " seed=27)  #随机种子\n",
    "clf.fit(X_train, y_train)\n",
    "y_pre= clf.predict(X_test)\n",
    "y_pro= clf.predict_proba(X_test)[:,1] \n",
    "print \"AUC Score : %f\" % metrics.roc_auc_score(y_test, y_pro) \n",
    "print\"Accuracy : %.4g\" % metrics.accuracy_score(y_test, y_pre) \n",
    "auc_Score.append(metrics.roc_auc_score(y_test, y_pro))\n",
    "accuracy.append(metrics.accuracy_score(y_test, y_pre))"
   ]
  },
  {
   "cell_type": "markdown",
   "metadata": {},
   "source": [
    "第四步：调整subsample 和 colsample_bytree 参数\n",
    "\n",
    " 'subsample':[i/10.0 for i in range(6,10)]=[0.6, 0.7, 0.8, 0.9]\n",
    " \n",
    " 'colsample_bytree':[i/10.0 for i in range(6,10)]=[0.6, 0.7, 0.8, 0.9]\n",
    " \n",
    " 'subsample': 0.6, 'colsample_bytree': 0.6 最好"
   ]
  },
  {
   "cell_type": "code",
   "execution_count": 56,
   "metadata": {
    "collapsed": false
   },
   "outputs": [
    {
     "name": "stdout",
     "output_type": "stream",
     "text": [
      "AUC Score : 0.992504\n",
      "Accuracy : 0.954\n"
     ]
    }
   ],
   "source": [
    "clf = XGBClassifier(\n",
    " learning_rate =0.1, #默认0.3\n",
    " n_estimators=1000, #树的个数\n",
    " max_depth=3,\n",
    " min_child_weight=1,\n",
    " gamma=0.5,\n",
    " subsample=0.6,\n",
    " colsample_bytree=0.6,\n",
    " objective= 'binary:logistic', #逻辑回归损失函数\n",
    " nthread=4,  #cpu线程数\n",
    " scale_pos_weight=1,\n",
    " seed=27)  #随机种子\n",
    "clf.fit(X_train, y_train)\n",
    "y_pre= clf.predict(X_test)\n",
    "y_pro= clf.predict_proba(X_test)[:,1] \n",
    "print \"AUC Score : %f\" % metrics.roc_auc_score(y_test, y_pro) \n",
    "print\"Accuracy : %.4g\" % metrics.accuracy_score(y_test, y_pre) \n",
    "auc_Score.append(metrics.roc_auc_score(y_test, y_pro))\n",
    "accuracy.append(metrics.accuracy_score(y_test, y_pre))"
   ]
  },
  {
   "cell_type": "markdown",
   "metadata": {},
   "source": [
    "第五步：正则化参数调优\n",
    "\n",
    "'reg_alpha':[1e-5, 1e-2, 0.1, 1, 100]=[1e-05, 0.01, 0.1, 1, 100] 默认0 L1正则项参数，参数值越大，模型越不容易过拟合\n",
    "\n",
    "'reg_lambda':[1,5,10,50]        默认1L2正则项参数，参数值越大，模型越不容易过拟合\n",
    "\n",
    "{'reg_alpha': 1e-05, 'reg_lambda': 1}  正则变化不大"
   ]
  },
  {
   "cell_type": "code",
   "execution_count": 57,
   "metadata": {
    "collapsed": false
   },
   "outputs": [
    {
     "name": "stdout",
     "output_type": "stream",
     "text": [
      "AUC Score : 0.992504\n",
      "Accuracy : 0.954\n"
     ]
    }
   ],
   "source": [
    "clf = XGBClassifier(\n",
    " learning_rate =0.1, #默认0.3\n",
    " n_estimators=1000, #树的个数\n",
    " max_depth=3,\n",
    " min_child_weight=1,\n",
    " gamma=0.5,\n",
    " subsample=0.6,\n",
    " colsample_bytree=0.6,\n",
    " objective= 'binary:logistic', #逻辑回归损失函数\n",
    " nthread=4,  #cpu线程数\n",
    " scale_pos_weight=1,\n",
    " reg_alpha=1e-05,\n",
    " reg_lambda=1,\n",
    " seed=27)  #随机种子\n",
    "clf.fit(X_train, y_train)\n",
    "y_pre= clf.predict(X_test)\n",
    "y_pro= clf.predict_proba(X_test)[:,1] \n",
    "print \"AUC Score : %f\" % metrics.roc_auc_score(y_test, y_pro) \n",
    "print\"Accuracy : %.4g\" % metrics.accuracy_score(y_test, y_pre) \n",
    "auc_Score.append(metrics.roc_auc_score(y_test, y_pro))\n",
    "accuracy.append(metrics.accuracy_score(y_test, y_pre))"
   ]
  },
  {
   "cell_type": "markdown",
   "metadata": {},
   "source": [
    "第6步：进一步 降低学习速率 增加更多的树\n",
    "\n",
    "'learning_rate':[0.01,0.1,0.3]\n",
    "\n",
    "'learning_rate': 0.1 不变\n",
    "\n",
    "'n_estimators':[1000,1200,1500,2000,2500]\n",
    "\n",
    "'n_estimators': 2000 较好"
   ]
  },
  {
   "cell_type": "code",
   "execution_count": 58,
   "metadata": {
    "collapsed": false
   },
   "outputs": [
    {
     "name": "stdout",
     "output_type": "stream",
     "text": [
      "AUC Score : 0.993114\n",
      "Accuracy : 0.957\n"
     ]
    }
   ],
   "source": [
    "clf = XGBClassifier(\n",
    " learning_rate =0.1, #默认0.3\n",
    " n_estimators=2000, #树的个数\n",
    " max_depth=3,\n",
    " min_child_weight=1,\n",
    " gamma=0.5,\n",
    " subsample=0.6,\n",
    " colsample_bytree=0.6,\n",
    " objective= 'binary:logistic', #逻辑回归损失函数\n",
    " nthread=4,  #cpu线程数\n",
    " scale_pos_weight=1,\n",
    " reg_alpha=1e-05,\n",
    " reg_lambda=1,\n",
    " seed=27)  #随机种子\n",
    "clf.fit(X_train, y_train)\n",
    "y_pre= clf.predict(X_test)\n",
    "y_pro= clf.predict_proba(X_test)[:,1] \n",
    "print \"AUC Score : %f\" % metrics.roc_auc_score(y_test, y_pro) \n",
    "print\"Accuracy : %.4g\" % metrics.accuracy_score(y_test, y_pre) \n",
    "auc_Score.append(metrics.roc_auc_score(y_test, y_pro))\n",
    "accuracy.append(metrics.accuracy_score(y_test, y_pre))"
   ]
  },
  {
   "cell_type": "markdown",
   "metadata": {},
   "source": [
    "绘图查看auc与准确率的变化情况\n",
    "----"
   ]
  },
  {
   "cell_type": "code",
   "execution_count": 76,
   "metadata": {
    "collapsed": false
   },
   "outputs": [
    {
     "data": {
      "image/png": "[encoded data removed]",
      "text/plain": [
       "<matplotlib.figure.Figure at 0x10b1b2990>"
      ]
     },
     "metadata": {},
     "output_type": "display_data"
    }
   ],
   "source": [
    "import matplotlib.pyplot as plt\n",
    "fig=plt.figure(figsize=(15,5))\n",
    "p1=fig.add_subplot(1,2,1)\n",
    "p1.plot(auc_Score)\n",
    "p1.set_ylabel('AUC Score')\n",
    "p1.set_title('AUC Score')\n",
    "p2=fig.add_subplot(1,2,2)\n",
    "p2.plot(accuracy)\n",
    "p2.set_ylabel('accuracy')\n",
    "p2.set_title('accuracy')\n",
    "plt.show()"
   ]
  },
  {
   "cell_type": "code",
   "execution_count": null,
   "metadata": {
    "collapsed": true
   },
   "outputs": [],
   "source": []
  }
 ],
 "metadata": {
  "kernelspec": {
   "display_name": "Python 2",
   "language": "python",
   "name": "python2"
  },
  "language_info": {
   "codemirror_mode": {
    "name": "ipython",
    "version": 2
   },
   "file_extension": ".py",
   "mimetype": "text/x-python",
   "name": "python",
   "nbconvert_exporter": "python",
   "pygments_lexer": "ipython2",
   "version": "2.7.12"
  }
 },
 "nbformat": 4,
 "nbformat_minor": 1
}
